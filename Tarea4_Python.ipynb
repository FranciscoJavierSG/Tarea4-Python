{
  "cells": [
    {
      "cell_type": "markdown",
      "metadata": {
        "id": "0TuMtKY5ADRZ"
      },
      "source": [
        "# Tarea 4 - Taller de Python para Ciencias de Datos\n",
        "Por: Cristofer Alarcón, Felipe Espinoza y Francisco Salazar"
      ]
    },
    {
      "cell_type": "markdown",
      "metadata": {
        "id": "G2bgKK8y9HXX"
      },
      "source": [
        "## 1. Importar las librerías y datos a analizar.\n"
      ]
    },
    {
      "cell_type": "markdown",
      "metadata": {},
      "source": [
        "Se importan las librerías necesarias"
      ]
    },
    {
      "cell_type": "code",
      "execution_count": 92,
      "metadata": {
        "id": "vB5UWrqW6WS9"
      },
      "outputs": [],
      "source": [
        "import pandas as pd\n",
        "import matplotlib as mpl\n",
        "import numpy as np\n",
        "import matplotlib.pyplot as plt\n",
        "import seaborn as sns"
      ]
    },
    {
      "cell_type": "markdown",
      "metadata": {
        "id": "rTeuA06g9GRY"
      },
      "source": [
        "Se cargan los datos en un dataframe"
      ]
    },
    {
      "cell_type": "code",
      "execution_count": 93,
      "metadata": {
        "colab": {
          "base_uri": "https://localhost:8080/",
          "height": 424
        },
        "id": "NyVZT-vY7Tbu",
        "outputId": "60342ae4-e601-46e0-b84f-398695c6dab0"
      },
      "outputs": [
        {
          "data": {
            "text/html": [
              "<div>\n",
              "<style scoped>\n",
              "    .dataframe tbody tr th:only-of-type {\n",
              "        vertical-align: middle;\n",
              "    }\n",
              "\n",
              "    .dataframe tbody tr th {\n",
              "        vertical-align: top;\n",
              "    }\n",
              "\n",
              "    .dataframe thead th {\n",
              "        text-align: right;\n",
              "    }\n",
              "</style>\n",
              "<table border=\"1\" class=\"dataframe\">\n",
              "  <thead>\n",
              "    <tr style=\"text-align: right;\">\n",
              "      <th></th>\n",
              "      <th>model</th>\n",
              "      <th>year</th>\n",
              "      <th>price</th>\n",
              "      <th>transmission</th>\n",
              "      <th>mileage</th>\n",
              "      <th>fuelType</th>\n",
              "      <th>tax</th>\n",
              "      <th>mpg</th>\n",
              "      <th>engineSize</th>\n",
              "      <th>km/L</th>\n",
              "      <th>km</th>\n",
              "      <th>km/LNorm</th>\n",
              "      <th>kmNorm</th>\n",
              "      <th>gastos-en-km/L</th>\n",
              "      <th>Transmision Automatica</th>\n",
              "      <th>Transmision Manual</th>\n",
              "      <th>Transmision Semi-Automatica</th>\n",
              "    </tr>\n",
              "  </thead>\n",
              "  <tbody>\n",
              "    <tr>\n",
              "      <th>0</th>\n",
              "      <td>Fiesta</td>\n",
              "      <td>2017</td>\n",
              "      <td>12000</td>\n",
              "      <td>Automatic</td>\n",
              "      <td>15944</td>\n",
              "      <td>Petrol</td>\n",
              "      <td>113.417932</td>\n",
              "      <td>57.7</td>\n",
              "      <td>1.0</td>\n",
              "      <td>24</td>\n",
              "      <td>25659.31696</td>\n",
              "      <td>0.285927</td>\n",
              "      <td>0.089753</td>\n",
              "      <td>Bajo</td>\n",
              "      <td>1</td>\n",
              "      <td>0</td>\n",
              "      <td>0</td>\n",
              "    </tr>\n",
              "    <tr>\n",
              "      <th>1</th>\n",
              "      <td>Focus</td>\n",
              "      <td>2018</td>\n",
              "      <td>14000</td>\n",
              "      <td>Manual</td>\n",
              "      <td>9083</td>\n",
              "      <td>Petrol</td>\n",
              "      <td>150.000000</td>\n",
              "      <td>57.7</td>\n",
              "      <td>1.0</td>\n",
              "      <td>24</td>\n",
              "      <td>14617.63522</td>\n",
              "      <td>0.285927</td>\n",
              "      <td>0.051130</td>\n",
              "      <td>Bajo</td>\n",
              "      <td>0</td>\n",
              "      <td>1</td>\n",
              "      <td>0</td>\n",
              "    </tr>\n",
              "    <tr>\n",
              "      <th>2</th>\n",
              "      <td>Focus</td>\n",
              "      <td>2017</td>\n",
              "      <td>13000</td>\n",
              "      <td>Manual</td>\n",
              "      <td>12456</td>\n",
              "      <td>Petrol</td>\n",
              "      <td>150.000000</td>\n",
              "      <td>57.7</td>\n",
              "      <td>1.0</td>\n",
              "      <td>24</td>\n",
              "      <td>20045.93904</td>\n",
              "      <td>0.285927</td>\n",
              "      <td>0.070118</td>\n",
              "      <td>Bajo</td>\n",
              "      <td>0</td>\n",
              "      <td>1</td>\n",
              "      <td>0</td>\n",
              "    </tr>\n",
              "    <tr>\n",
              "      <th>3</th>\n",
              "      <td>Fiesta</td>\n",
              "      <td>2019</td>\n",
              "      <td>17500</td>\n",
              "      <td>Manual</td>\n",
              "      <td>10460</td>\n",
              "      <td>Petrol</td>\n",
              "      <td>145.000000</td>\n",
              "      <td>40.3</td>\n",
              "      <td>1.5</td>\n",
              "      <td>17</td>\n",
              "      <td>16833.69640</td>\n",
              "      <td>0.199703</td>\n",
              "      <td>0.058882</td>\n",
              "      <td>Bajo</td>\n",
              "      <td>0</td>\n",
              "      <td>1</td>\n",
              "      <td>0</td>\n",
              "    </tr>\n",
              "    <tr>\n",
              "      <th>4</th>\n",
              "      <td>Fiesta</td>\n",
              "      <td>2019</td>\n",
              "      <td>16500</td>\n",
              "      <td>Automatic</td>\n",
              "      <td>1482</td>\n",
              "      <td>Petrol</td>\n",
              "      <td>145.000000</td>\n",
              "      <td>48.7</td>\n",
              "      <td>1.0</td>\n",
              "      <td>20</td>\n",
              "      <td>2385.04188</td>\n",
              "      <td>0.241328</td>\n",
              "      <td>0.008343</td>\n",
              "      <td>Bajo</td>\n",
              "      <td>1</td>\n",
              "      <td>0</td>\n",
              "      <td>0</td>\n",
              "    </tr>\n",
              "    <tr>\n",
              "      <th>...</th>\n",
              "      <td>...</td>\n",
              "      <td>...</td>\n",
              "      <td>...</td>\n",
              "      <td>...</td>\n",
              "      <td>...</td>\n",
              "      <td>...</td>\n",
              "      <td>...</td>\n",
              "      <td>...</td>\n",
              "      <td>...</td>\n",
              "      <td>...</td>\n",
              "      <td>...</td>\n",
              "      <td>...</td>\n",
              "      <td>...</td>\n",
              "      <td>...</td>\n",
              "      <td>...</td>\n",
              "      <td>...</td>\n",
              "      <td>...</td>\n",
              "    </tr>\n",
              "    <tr>\n",
              "      <th>17961</th>\n",
              "      <td>B-MAX</td>\n",
              "      <td>2017</td>\n",
              "      <td>8999</td>\n",
              "      <td>Manual</td>\n",
              "      <td>16700</td>\n",
              "      <td>Petrol</td>\n",
              "      <td>150.000000</td>\n",
              "      <td>47.1</td>\n",
              "      <td>1.4</td>\n",
              "      <td>20</td>\n",
              "      <td>26875.97800</td>\n",
              "      <td>0.233399</td>\n",
              "      <td>0.094008</td>\n",
              "      <td>Bajo</td>\n",
              "      <td>0</td>\n",
              "      <td>1</td>\n",
              "      <td>0</td>\n",
              "    </tr>\n",
              "    <tr>\n",
              "      <th>17962</th>\n",
              "      <td>B-MAX</td>\n",
              "      <td>2014</td>\n",
              "      <td>7499</td>\n",
              "      <td>Manual</td>\n",
              "      <td>40700</td>\n",
              "      <td>Petrol</td>\n",
              "      <td>30.000000</td>\n",
              "      <td>57.7</td>\n",
              "      <td>1.0</td>\n",
              "      <td>24</td>\n",
              "      <td>65500.13800</td>\n",
              "      <td>0.285927</td>\n",
              "      <td>0.229110</td>\n",
              "      <td>Bajo</td>\n",
              "      <td>0</td>\n",
              "      <td>1</td>\n",
              "      <td>0</td>\n",
              "    </tr>\n",
              "    <tr>\n",
              "      <th>17963</th>\n",
              "      <td>Focus</td>\n",
              "      <td>2015</td>\n",
              "      <td>9999</td>\n",
              "      <td>Manual</td>\n",
              "      <td>7010</td>\n",
              "      <td>Diesel</td>\n",
              "      <td>20.000000</td>\n",
              "      <td>67.3</td>\n",
              "      <td>1.6</td>\n",
              "      <td>28</td>\n",
              "      <td>11281.47340</td>\n",
              "      <td>0.333499</td>\n",
              "      <td>0.039461</td>\n",
              "      <td>Bajo</td>\n",
              "      <td>0</td>\n",
              "      <td>1</td>\n",
              "      <td>0</td>\n",
              "    </tr>\n",
              "    <tr>\n",
              "      <th>17964</th>\n",
              "      <td>KA</td>\n",
              "      <td>2018</td>\n",
              "      <td>8299</td>\n",
              "      <td>Manual</td>\n",
              "      <td>5007</td>\n",
              "      <td>Petrol</td>\n",
              "      <td>145.000000</td>\n",
              "      <td>57.7</td>\n",
              "      <td>1.2</td>\n",
              "      <td>24</td>\n",
              "      <td>8057.96538</td>\n",
              "      <td>0.285927</td>\n",
              "      <td>0.028186</td>\n",
              "      <td>Bajo</td>\n",
              "      <td>0</td>\n",
              "      <td>1</td>\n",
              "      <td>0</td>\n",
              "    </tr>\n",
              "    <tr>\n",
              "      <th>17965</th>\n",
              "      <td>Focus</td>\n",
              "      <td>2015</td>\n",
              "      <td>8299</td>\n",
              "      <td>Manual</td>\n",
              "      <td>5007</td>\n",
              "      <td>Petrol</td>\n",
              "      <td>22.000000</td>\n",
              "      <td>57.7</td>\n",
              "      <td>1.0</td>\n",
              "      <td>24</td>\n",
              "      <td>8057.96538</td>\n",
              "      <td>0.285927</td>\n",
              "      <td>0.028186</td>\n",
              "      <td>Bajo</td>\n",
              "      <td>0</td>\n",
              "      <td>1</td>\n",
              "      <td>0</td>\n",
              "    </tr>\n",
              "  </tbody>\n",
              "</table>\n",
              "<p>17966 rows × 17 columns</p>\n",
              "</div>"
            ],
            "text/plain": [
              "         model  year  price transmission  mileage fuelType         tax   mpg  \\\n",
              "0       Fiesta  2017  12000    Automatic    15944   Petrol  113.417932  57.7   \n",
              "1        Focus  2018  14000       Manual     9083   Petrol  150.000000  57.7   \n",
              "2        Focus  2017  13000       Manual    12456   Petrol  150.000000  57.7   \n",
              "3       Fiesta  2019  17500       Manual    10460   Petrol  145.000000  40.3   \n",
              "4       Fiesta  2019  16500    Automatic     1482   Petrol  145.000000  48.7   \n",
              "...        ...   ...    ...          ...      ...      ...         ...   ...   \n",
              "17961    B-MAX  2017   8999       Manual    16700   Petrol  150.000000  47.1   \n",
              "17962    B-MAX  2014   7499       Manual    40700   Petrol   30.000000  57.7   \n",
              "17963    Focus  2015   9999       Manual     7010   Diesel   20.000000  67.3   \n",
              "17964       KA  2018   8299       Manual     5007   Petrol  145.000000  57.7   \n",
              "17965    Focus  2015   8299       Manual     5007   Petrol   22.000000  57.7   \n",
              "\n",
              "       engineSize  km/L           km  km/LNorm    kmNorm gastos-en-km/L  \\\n",
              "0             1.0    24  25659.31696  0.285927  0.089753           Bajo   \n",
              "1             1.0    24  14617.63522  0.285927  0.051130           Bajo   \n",
              "2             1.0    24  20045.93904  0.285927  0.070118           Bajo   \n",
              "3             1.5    17  16833.69640  0.199703  0.058882           Bajo   \n",
              "4             1.0    20   2385.04188  0.241328  0.008343           Bajo   \n",
              "...           ...   ...          ...       ...       ...            ...   \n",
              "17961         1.4    20  26875.97800  0.233399  0.094008           Bajo   \n",
              "17962         1.0    24  65500.13800  0.285927  0.229110           Bajo   \n",
              "17963         1.6    28  11281.47340  0.333499  0.039461           Bajo   \n",
              "17964         1.2    24   8057.96538  0.285927  0.028186           Bajo   \n",
              "17965         1.0    24   8057.96538  0.285927  0.028186           Bajo   \n",
              "\n",
              "       Transmision Automatica  Transmision Manual  Transmision Semi-Automatica  \n",
              "0                           1                   0                            0  \n",
              "1                           0                   1                            0  \n",
              "2                           0                   1                            0  \n",
              "3                           0                   1                            0  \n",
              "4                           1                   0                            0  \n",
              "...                       ...                 ...                          ...  \n",
              "17961                       0                   1                            0  \n",
              "17962                       0                   1                            0  \n",
              "17963                       0                   1                            0  \n",
              "17964                       0                   1                            0  \n",
              "17965                       0                   1                            0  \n",
              "\n",
              "[17966 rows x 17 columns]"
            ]
          },
          "execution_count": 93,
          "metadata": {},
          "output_type": "execute_result"
        }
      ],
      "source": [
        "df = pd.read_csv(\"datos_vehiculos_procesados.csv\", skiprows=0, low_memory=False)\n",
        "df"
      ]
    },
    {
      "cell_type": "markdown",
      "metadata": {},
      "source": [
        "---"
      ]
    },
    {
      "cell_type": "markdown",
      "metadata": {},
      "source": [
        "Ya que se va a analizar mpg, se eliminan ciertos datos que pueden generar error."
      ]
    },
    {
      "cell_type": "code",
      "execution_count": 94,
      "metadata": {},
      "outputs": [
        {
          "data": {
            "text/html": [
              "<div>\n",
              "<style scoped>\n",
              "    .dataframe tbody tr th:only-of-type {\n",
              "        vertical-align: middle;\n",
              "    }\n",
              "\n",
              "    .dataframe tbody tr th {\n",
              "        vertical-align: top;\n",
              "    }\n",
              "\n",
              "    .dataframe thead th {\n",
              "        text-align: right;\n",
              "    }\n",
              "</style>\n",
              "<table border=\"1\" class=\"dataframe\">\n",
              "  <thead>\n",
              "    <tr style=\"text-align: right;\">\n",
              "      <th></th>\n",
              "      <th>model</th>\n",
              "      <th>year</th>\n",
              "      <th>price</th>\n",
              "      <th>transmission</th>\n",
              "      <th>mileage</th>\n",
              "      <th>fuelType</th>\n",
              "      <th>tax</th>\n",
              "      <th>mpg</th>\n",
              "      <th>engineSize</th>\n",
              "      <th>km/L</th>\n",
              "      <th>km</th>\n",
              "      <th>km/LNorm</th>\n",
              "      <th>kmNorm</th>\n",
              "      <th>gastos-en-km/L</th>\n",
              "      <th>Transmision Automatica</th>\n",
              "      <th>Transmision Manual</th>\n",
              "      <th>Transmision Semi-Automatica</th>\n",
              "    </tr>\n",
              "  </thead>\n",
              "  <tbody>\n",
              "    <tr>\n",
              "      <th>0</th>\n",
              "      <td>Fiesta</td>\n",
              "      <td>2017</td>\n",
              "      <td>12000</td>\n",
              "      <td>Automatic</td>\n",
              "      <td>15944</td>\n",
              "      <td>Petrol</td>\n",
              "      <td>113.417932</td>\n",
              "      <td>57.7</td>\n",
              "      <td>1.0</td>\n",
              "      <td>24</td>\n",
              "      <td>25659.31696</td>\n",
              "      <td>0.285927</td>\n",
              "      <td>0.089753</td>\n",
              "      <td>Bajo</td>\n",
              "      <td>1</td>\n",
              "      <td>0</td>\n",
              "      <td>0</td>\n",
              "    </tr>\n",
              "    <tr>\n",
              "      <th>1</th>\n",
              "      <td>Focus</td>\n",
              "      <td>2018</td>\n",
              "      <td>14000</td>\n",
              "      <td>Manual</td>\n",
              "      <td>9083</td>\n",
              "      <td>Petrol</td>\n",
              "      <td>150.000000</td>\n",
              "      <td>57.7</td>\n",
              "      <td>1.0</td>\n",
              "      <td>24</td>\n",
              "      <td>14617.63522</td>\n",
              "      <td>0.285927</td>\n",
              "      <td>0.051130</td>\n",
              "      <td>Bajo</td>\n",
              "      <td>0</td>\n",
              "      <td>1</td>\n",
              "      <td>0</td>\n",
              "    </tr>\n",
              "    <tr>\n",
              "      <th>2</th>\n",
              "      <td>Focus</td>\n",
              "      <td>2017</td>\n",
              "      <td>13000</td>\n",
              "      <td>Manual</td>\n",
              "      <td>12456</td>\n",
              "      <td>Petrol</td>\n",
              "      <td>150.000000</td>\n",
              "      <td>57.7</td>\n",
              "      <td>1.0</td>\n",
              "      <td>24</td>\n",
              "      <td>20045.93904</td>\n",
              "      <td>0.285927</td>\n",
              "      <td>0.070118</td>\n",
              "      <td>Bajo</td>\n",
              "      <td>0</td>\n",
              "      <td>1</td>\n",
              "      <td>0</td>\n",
              "    </tr>\n",
              "    <tr>\n",
              "      <th>3</th>\n",
              "      <td>Fiesta</td>\n",
              "      <td>2019</td>\n",
              "      <td>17500</td>\n",
              "      <td>Manual</td>\n",
              "      <td>10460</td>\n",
              "      <td>Petrol</td>\n",
              "      <td>145.000000</td>\n",
              "      <td>40.3</td>\n",
              "      <td>1.5</td>\n",
              "      <td>17</td>\n",
              "      <td>16833.69640</td>\n",
              "      <td>0.199703</td>\n",
              "      <td>0.058882</td>\n",
              "      <td>Bajo</td>\n",
              "      <td>0</td>\n",
              "      <td>1</td>\n",
              "      <td>0</td>\n",
              "    </tr>\n",
              "    <tr>\n",
              "      <th>4</th>\n",
              "      <td>Fiesta</td>\n",
              "      <td>2019</td>\n",
              "      <td>16500</td>\n",
              "      <td>Automatic</td>\n",
              "      <td>1482</td>\n",
              "      <td>Petrol</td>\n",
              "      <td>145.000000</td>\n",
              "      <td>48.7</td>\n",
              "      <td>1.0</td>\n",
              "      <td>20</td>\n",
              "      <td>2385.04188</td>\n",
              "      <td>0.241328</td>\n",
              "      <td>0.008343</td>\n",
              "      <td>Bajo</td>\n",
              "      <td>1</td>\n",
              "      <td>0</td>\n",
              "      <td>0</td>\n",
              "    </tr>\n",
              "    <tr>\n",
              "      <th>...</th>\n",
              "      <td>...</td>\n",
              "      <td>...</td>\n",
              "      <td>...</td>\n",
              "      <td>...</td>\n",
              "      <td>...</td>\n",
              "      <td>...</td>\n",
              "      <td>...</td>\n",
              "      <td>...</td>\n",
              "      <td>...</td>\n",
              "      <td>...</td>\n",
              "      <td>...</td>\n",
              "      <td>...</td>\n",
              "      <td>...</td>\n",
              "      <td>...</td>\n",
              "      <td>...</td>\n",
              "      <td>...</td>\n",
              "      <td>...</td>\n",
              "    </tr>\n",
              "    <tr>\n",
              "      <th>17961</th>\n",
              "      <td>B-MAX</td>\n",
              "      <td>2017</td>\n",
              "      <td>8999</td>\n",
              "      <td>Manual</td>\n",
              "      <td>16700</td>\n",
              "      <td>Petrol</td>\n",
              "      <td>150.000000</td>\n",
              "      <td>47.1</td>\n",
              "      <td>1.4</td>\n",
              "      <td>20</td>\n",
              "      <td>26875.97800</td>\n",
              "      <td>0.233399</td>\n",
              "      <td>0.094008</td>\n",
              "      <td>Bajo</td>\n",
              "      <td>0</td>\n",
              "      <td>1</td>\n",
              "      <td>0</td>\n",
              "    </tr>\n",
              "    <tr>\n",
              "      <th>17962</th>\n",
              "      <td>B-MAX</td>\n",
              "      <td>2014</td>\n",
              "      <td>7499</td>\n",
              "      <td>Manual</td>\n",
              "      <td>40700</td>\n",
              "      <td>Petrol</td>\n",
              "      <td>30.000000</td>\n",
              "      <td>57.7</td>\n",
              "      <td>1.0</td>\n",
              "      <td>24</td>\n",
              "      <td>65500.13800</td>\n",
              "      <td>0.285927</td>\n",
              "      <td>0.229110</td>\n",
              "      <td>Bajo</td>\n",
              "      <td>0</td>\n",
              "      <td>1</td>\n",
              "      <td>0</td>\n",
              "    </tr>\n",
              "    <tr>\n",
              "      <th>17963</th>\n",
              "      <td>Focus</td>\n",
              "      <td>2015</td>\n",
              "      <td>9999</td>\n",
              "      <td>Manual</td>\n",
              "      <td>7010</td>\n",
              "      <td>Diesel</td>\n",
              "      <td>20.000000</td>\n",
              "      <td>67.3</td>\n",
              "      <td>1.6</td>\n",
              "      <td>28</td>\n",
              "      <td>11281.47340</td>\n",
              "      <td>0.333499</td>\n",
              "      <td>0.039461</td>\n",
              "      <td>Bajo</td>\n",
              "      <td>0</td>\n",
              "      <td>1</td>\n",
              "      <td>0</td>\n",
              "    </tr>\n",
              "    <tr>\n",
              "      <th>17964</th>\n",
              "      <td>KA</td>\n",
              "      <td>2018</td>\n",
              "      <td>8299</td>\n",
              "      <td>Manual</td>\n",
              "      <td>5007</td>\n",
              "      <td>Petrol</td>\n",
              "      <td>145.000000</td>\n",
              "      <td>57.7</td>\n",
              "      <td>1.2</td>\n",
              "      <td>24</td>\n",
              "      <td>8057.96538</td>\n",
              "      <td>0.285927</td>\n",
              "      <td>0.028186</td>\n",
              "      <td>Bajo</td>\n",
              "      <td>0</td>\n",
              "      <td>1</td>\n",
              "      <td>0</td>\n",
              "    </tr>\n",
              "    <tr>\n",
              "      <th>17965</th>\n",
              "      <td>Focus</td>\n",
              "      <td>2015</td>\n",
              "      <td>8299</td>\n",
              "      <td>Manual</td>\n",
              "      <td>5007</td>\n",
              "      <td>Petrol</td>\n",
              "      <td>22.000000</td>\n",
              "      <td>57.7</td>\n",
              "      <td>1.0</td>\n",
              "      <td>24</td>\n",
              "      <td>8057.96538</td>\n",
              "      <td>0.285927</td>\n",
              "      <td>0.028186</td>\n",
              "      <td>Bajo</td>\n",
              "      <td>0</td>\n",
              "      <td>1</td>\n",
              "      <td>0</td>\n",
              "    </tr>\n",
              "  </tbody>\n",
              "</table>\n",
              "<p>17944 rows × 17 columns</p>\n",
              "</div>"
            ],
            "text/plain": [
              "         model  year  price transmission  mileage fuelType         tax   mpg  \\\n",
              "0       Fiesta  2017  12000    Automatic    15944   Petrol  113.417932  57.7   \n",
              "1        Focus  2018  14000       Manual     9083   Petrol  150.000000  57.7   \n",
              "2        Focus  2017  13000       Manual    12456   Petrol  150.000000  57.7   \n",
              "3       Fiesta  2019  17500       Manual    10460   Petrol  145.000000  40.3   \n",
              "4       Fiesta  2019  16500    Automatic     1482   Petrol  145.000000  48.7   \n",
              "...        ...   ...    ...          ...      ...      ...         ...   ...   \n",
              "17961    B-MAX  2017   8999       Manual    16700   Petrol  150.000000  47.1   \n",
              "17962    B-MAX  2014   7499       Manual    40700   Petrol   30.000000  57.7   \n",
              "17963    Focus  2015   9999       Manual     7010   Diesel   20.000000  67.3   \n",
              "17964       KA  2018   8299       Manual     5007   Petrol  145.000000  57.7   \n",
              "17965    Focus  2015   8299       Manual     5007   Petrol   22.000000  57.7   \n",
              "\n",
              "       engineSize  km/L           km  km/LNorm    kmNorm gastos-en-km/L  \\\n",
              "0             1.0    24  25659.31696  0.285927  0.089753           Bajo   \n",
              "1             1.0    24  14617.63522  0.285927  0.051130           Bajo   \n",
              "2             1.0    24  20045.93904  0.285927  0.070118           Bajo   \n",
              "3             1.5    17  16833.69640  0.199703  0.058882           Bajo   \n",
              "4             1.0    20   2385.04188  0.241328  0.008343           Bajo   \n",
              "...           ...   ...          ...       ...       ...            ...   \n",
              "17961         1.4    20  26875.97800  0.233399  0.094008           Bajo   \n",
              "17962         1.0    24  65500.13800  0.285927  0.229110           Bajo   \n",
              "17963         1.6    28  11281.47340  0.333499  0.039461           Bajo   \n",
              "17964         1.2    24   8057.96538  0.285927  0.028186           Bajo   \n",
              "17965         1.0    24   8057.96538  0.285927  0.028186           Bajo   \n",
              "\n",
              "       Transmision Automatica  Transmision Manual  Transmision Semi-Automatica  \n",
              "0                           1                   0                            0  \n",
              "1                           0                   1                            0  \n",
              "2                           0                   1                            0  \n",
              "3                           0                   1                            0  \n",
              "4                           1                   0                            0  \n",
              "...                       ...                 ...                          ...  \n",
              "17961                       0                   1                            0  \n",
              "17962                       0                   1                            0  \n",
              "17963                       0                   1                            0  \n",
              "17964                       0                   1                            0  \n",
              "17965                       0                   1                            0  \n",
              "\n",
              "[17944 rows x 17 columns]"
            ]
          },
          "execution_count": 94,
          "metadata": {},
          "output_type": "execute_result"
        }
      ],
      "source": [
        "drop1 = df[(df.fuelType == 'Hybrid')].index\n",
        "df.drop(drop1, inplace=True)\n",
        "\n",
        "df"
      ]
    },
    {
      "cell_type": "markdown",
      "metadata": {},
      "source": [
        "También se elimina el único dato que hay en el año 2060 ya que genera problemas al graficar, siendo un año muy alejado al resto."
      ]
    },
    {
      "cell_type": "code",
      "execution_count": 95,
      "metadata": {},
      "outputs": [
        {
          "data": {
            "text/html": [
              "<div>\n",
              "<style scoped>\n",
              "    .dataframe tbody tr th:only-of-type {\n",
              "        vertical-align: middle;\n",
              "    }\n",
              "\n",
              "    .dataframe tbody tr th {\n",
              "        vertical-align: top;\n",
              "    }\n",
              "\n",
              "    .dataframe thead th {\n",
              "        text-align: right;\n",
              "    }\n",
              "</style>\n",
              "<table border=\"1\" class=\"dataframe\">\n",
              "  <thead>\n",
              "    <tr style=\"text-align: right;\">\n",
              "      <th></th>\n",
              "      <th>model</th>\n",
              "      <th>year</th>\n",
              "      <th>price</th>\n",
              "      <th>transmission</th>\n",
              "      <th>mileage</th>\n",
              "      <th>fuelType</th>\n",
              "      <th>tax</th>\n",
              "      <th>mpg</th>\n",
              "      <th>engineSize</th>\n",
              "      <th>km/L</th>\n",
              "      <th>km</th>\n",
              "      <th>km/LNorm</th>\n",
              "      <th>kmNorm</th>\n",
              "      <th>gastos-en-km/L</th>\n",
              "      <th>Transmision Automatica</th>\n",
              "      <th>Transmision Manual</th>\n",
              "      <th>Transmision Semi-Automatica</th>\n",
              "    </tr>\n",
              "  </thead>\n",
              "  <tbody>\n",
              "    <tr>\n",
              "      <th>0</th>\n",
              "      <td>Fiesta</td>\n",
              "      <td>2017</td>\n",
              "      <td>12000</td>\n",
              "      <td>Automatic</td>\n",
              "      <td>15944</td>\n",
              "      <td>Petrol</td>\n",
              "      <td>113.417932</td>\n",
              "      <td>57.7</td>\n",
              "      <td>1.0</td>\n",
              "      <td>24</td>\n",
              "      <td>25659.31696</td>\n",
              "      <td>0.285927</td>\n",
              "      <td>0.089753</td>\n",
              "      <td>Bajo</td>\n",
              "      <td>1</td>\n",
              "      <td>0</td>\n",
              "      <td>0</td>\n",
              "    </tr>\n",
              "    <tr>\n",
              "      <th>1</th>\n",
              "      <td>Focus</td>\n",
              "      <td>2018</td>\n",
              "      <td>14000</td>\n",
              "      <td>Manual</td>\n",
              "      <td>9083</td>\n",
              "      <td>Petrol</td>\n",
              "      <td>150.000000</td>\n",
              "      <td>57.7</td>\n",
              "      <td>1.0</td>\n",
              "      <td>24</td>\n",
              "      <td>14617.63522</td>\n",
              "      <td>0.285927</td>\n",
              "      <td>0.051130</td>\n",
              "      <td>Bajo</td>\n",
              "      <td>0</td>\n",
              "      <td>1</td>\n",
              "      <td>0</td>\n",
              "    </tr>\n",
              "    <tr>\n",
              "      <th>2</th>\n",
              "      <td>Focus</td>\n",
              "      <td>2017</td>\n",
              "      <td>13000</td>\n",
              "      <td>Manual</td>\n",
              "      <td>12456</td>\n",
              "      <td>Petrol</td>\n",
              "      <td>150.000000</td>\n",
              "      <td>57.7</td>\n",
              "      <td>1.0</td>\n",
              "      <td>24</td>\n",
              "      <td>20045.93904</td>\n",
              "      <td>0.285927</td>\n",
              "      <td>0.070118</td>\n",
              "      <td>Bajo</td>\n",
              "      <td>0</td>\n",
              "      <td>1</td>\n",
              "      <td>0</td>\n",
              "    </tr>\n",
              "    <tr>\n",
              "      <th>3</th>\n",
              "      <td>Fiesta</td>\n",
              "      <td>2019</td>\n",
              "      <td>17500</td>\n",
              "      <td>Manual</td>\n",
              "      <td>10460</td>\n",
              "      <td>Petrol</td>\n",
              "      <td>145.000000</td>\n",
              "      <td>40.3</td>\n",
              "      <td>1.5</td>\n",
              "      <td>17</td>\n",
              "      <td>16833.69640</td>\n",
              "      <td>0.199703</td>\n",
              "      <td>0.058882</td>\n",
              "      <td>Bajo</td>\n",
              "      <td>0</td>\n",
              "      <td>1</td>\n",
              "      <td>0</td>\n",
              "    </tr>\n",
              "    <tr>\n",
              "      <th>4</th>\n",
              "      <td>Fiesta</td>\n",
              "      <td>2019</td>\n",
              "      <td>16500</td>\n",
              "      <td>Automatic</td>\n",
              "      <td>1482</td>\n",
              "      <td>Petrol</td>\n",
              "      <td>145.000000</td>\n",
              "      <td>48.7</td>\n",
              "      <td>1.0</td>\n",
              "      <td>20</td>\n",
              "      <td>2385.04188</td>\n",
              "      <td>0.241328</td>\n",
              "      <td>0.008343</td>\n",
              "      <td>Bajo</td>\n",
              "      <td>1</td>\n",
              "      <td>0</td>\n",
              "      <td>0</td>\n",
              "    </tr>\n",
              "    <tr>\n",
              "      <th>...</th>\n",
              "      <td>...</td>\n",
              "      <td>...</td>\n",
              "      <td>...</td>\n",
              "      <td>...</td>\n",
              "      <td>...</td>\n",
              "      <td>...</td>\n",
              "      <td>...</td>\n",
              "      <td>...</td>\n",
              "      <td>...</td>\n",
              "      <td>...</td>\n",
              "      <td>...</td>\n",
              "      <td>...</td>\n",
              "      <td>...</td>\n",
              "      <td>...</td>\n",
              "      <td>...</td>\n",
              "      <td>...</td>\n",
              "      <td>...</td>\n",
              "    </tr>\n",
              "    <tr>\n",
              "      <th>17961</th>\n",
              "      <td>B-MAX</td>\n",
              "      <td>2017</td>\n",
              "      <td>8999</td>\n",
              "      <td>Manual</td>\n",
              "      <td>16700</td>\n",
              "      <td>Petrol</td>\n",
              "      <td>150.000000</td>\n",
              "      <td>47.1</td>\n",
              "      <td>1.4</td>\n",
              "      <td>20</td>\n",
              "      <td>26875.97800</td>\n",
              "      <td>0.233399</td>\n",
              "      <td>0.094008</td>\n",
              "      <td>Bajo</td>\n",
              "      <td>0</td>\n",
              "      <td>1</td>\n",
              "      <td>0</td>\n",
              "    </tr>\n",
              "    <tr>\n",
              "      <th>17962</th>\n",
              "      <td>B-MAX</td>\n",
              "      <td>2014</td>\n",
              "      <td>7499</td>\n",
              "      <td>Manual</td>\n",
              "      <td>40700</td>\n",
              "      <td>Petrol</td>\n",
              "      <td>30.000000</td>\n",
              "      <td>57.7</td>\n",
              "      <td>1.0</td>\n",
              "      <td>24</td>\n",
              "      <td>65500.13800</td>\n",
              "      <td>0.285927</td>\n",
              "      <td>0.229110</td>\n",
              "      <td>Bajo</td>\n",
              "      <td>0</td>\n",
              "      <td>1</td>\n",
              "      <td>0</td>\n",
              "    </tr>\n",
              "    <tr>\n",
              "      <th>17963</th>\n",
              "      <td>Focus</td>\n",
              "      <td>2015</td>\n",
              "      <td>9999</td>\n",
              "      <td>Manual</td>\n",
              "      <td>7010</td>\n",
              "      <td>Diesel</td>\n",
              "      <td>20.000000</td>\n",
              "      <td>67.3</td>\n",
              "      <td>1.6</td>\n",
              "      <td>28</td>\n",
              "      <td>11281.47340</td>\n",
              "      <td>0.333499</td>\n",
              "      <td>0.039461</td>\n",
              "      <td>Bajo</td>\n",
              "      <td>0</td>\n",
              "      <td>1</td>\n",
              "      <td>0</td>\n",
              "    </tr>\n",
              "    <tr>\n",
              "      <th>17964</th>\n",
              "      <td>KA</td>\n",
              "      <td>2018</td>\n",
              "      <td>8299</td>\n",
              "      <td>Manual</td>\n",
              "      <td>5007</td>\n",
              "      <td>Petrol</td>\n",
              "      <td>145.000000</td>\n",
              "      <td>57.7</td>\n",
              "      <td>1.2</td>\n",
              "      <td>24</td>\n",
              "      <td>8057.96538</td>\n",
              "      <td>0.285927</td>\n",
              "      <td>0.028186</td>\n",
              "      <td>Bajo</td>\n",
              "      <td>0</td>\n",
              "      <td>1</td>\n",
              "      <td>0</td>\n",
              "    </tr>\n",
              "    <tr>\n",
              "      <th>17965</th>\n",
              "      <td>Focus</td>\n",
              "      <td>2015</td>\n",
              "      <td>8299</td>\n",
              "      <td>Manual</td>\n",
              "      <td>5007</td>\n",
              "      <td>Petrol</td>\n",
              "      <td>22.000000</td>\n",
              "      <td>57.7</td>\n",
              "      <td>1.0</td>\n",
              "      <td>24</td>\n",
              "      <td>8057.96538</td>\n",
              "      <td>0.285927</td>\n",
              "      <td>0.028186</td>\n",
              "      <td>Bajo</td>\n",
              "      <td>0</td>\n",
              "      <td>1</td>\n",
              "      <td>0</td>\n",
              "    </tr>\n",
              "  </tbody>\n",
              "</table>\n",
              "<p>17943 rows × 17 columns</p>\n",
              "</div>"
            ],
            "text/plain": [
              "         model  year  price transmission  mileage fuelType         tax   mpg  \\\n",
              "0       Fiesta  2017  12000    Automatic    15944   Petrol  113.417932  57.7   \n",
              "1        Focus  2018  14000       Manual     9083   Petrol  150.000000  57.7   \n",
              "2        Focus  2017  13000       Manual    12456   Petrol  150.000000  57.7   \n",
              "3       Fiesta  2019  17500       Manual    10460   Petrol  145.000000  40.3   \n",
              "4       Fiesta  2019  16500    Automatic     1482   Petrol  145.000000  48.7   \n",
              "...        ...   ...    ...          ...      ...      ...         ...   ...   \n",
              "17961    B-MAX  2017   8999       Manual    16700   Petrol  150.000000  47.1   \n",
              "17962    B-MAX  2014   7499       Manual    40700   Petrol   30.000000  57.7   \n",
              "17963    Focus  2015   9999       Manual     7010   Diesel   20.000000  67.3   \n",
              "17964       KA  2018   8299       Manual     5007   Petrol  145.000000  57.7   \n",
              "17965    Focus  2015   8299       Manual     5007   Petrol   22.000000  57.7   \n",
              "\n",
              "       engineSize  km/L           km  km/LNorm    kmNorm gastos-en-km/L  \\\n",
              "0             1.0    24  25659.31696  0.285927  0.089753           Bajo   \n",
              "1             1.0    24  14617.63522  0.285927  0.051130           Bajo   \n",
              "2             1.0    24  20045.93904  0.285927  0.070118           Bajo   \n",
              "3             1.5    17  16833.69640  0.199703  0.058882           Bajo   \n",
              "4             1.0    20   2385.04188  0.241328  0.008343           Bajo   \n",
              "...           ...   ...          ...       ...       ...            ...   \n",
              "17961         1.4    20  26875.97800  0.233399  0.094008           Bajo   \n",
              "17962         1.0    24  65500.13800  0.285927  0.229110           Bajo   \n",
              "17963         1.6    28  11281.47340  0.333499  0.039461           Bajo   \n",
              "17964         1.2    24   8057.96538  0.285927  0.028186           Bajo   \n",
              "17965         1.0    24   8057.96538  0.285927  0.028186           Bajo   \n",
              "\n",
              "       Transmision Automatica  Transmision Manual  Transmision Semi-Automatica  \n",
              "0                           1                   0                            0  \n",
              "1                           0                   1                            0  \n",
              "2                           0                   1                            0  \n",
              "3                           0                   1                            0  \n",
              "4                           1                   0                            0  \n",
              "...                       ...                 ...                          ...  \n",
              "17961                       0                   1                            0  \n",
              "17962                       0                   1                            0  \n",
              "17963                       0                   1                            0  \n",
              "17964                       0                   1                            0  \n",
              "17965                       0                   1                            0  \n",
              "\n",
              "[17943 rows x 17 columns]"
            ]
          },
          "execution_count": 95,
          "metadata": {},
          "output_type": "execute_result"
        }
      ],
      "source": [
        "drop2 = df[(df.year == 2060)].index\n",
        "df.drop(drop2, inplace=True)\n",
        "\n",
        "df"
      ]
    },
    {
      "cell_type": "markdown",
      "metadata": {},
      "source": [
        "## 2. Analisis de las variables a seleccionar para modelar el problema."
      ]
    },
    {
      "cell_type": "markdown",
      "metadata": {},
      "source": [
        "Se revisan todas las correlaciones del dataframe."
      ]
    },
    {
      "cell_type": "code",
      "execution_count": 96,
      "metadata": {
        "colab": {
          "base_uri": "https://localhost:8080/",
          "height": 536
        },
        "id": "3QVKKF-sB7eI",
        "outputId": "0fd05759-a70f-4ce6-c60e-9398f006024b"
      },
      "outputs": [
        {
          "data": {
            "text/html": [
              "<div>\n",
              "<style scoped>\n",
              "    .dataframe tbody tr th:only-of-type {\n",
              "        vertical-align: middle;\n",
              "    }\n",
              "\n",
              "    .dataframe tbody tr th {\n",
              "        vertical-align: top;\n",
              "    }\n",
              "\n",
              "    .dataframe thead th {\n",
              "        text-align: right;\n",
              "    }\n",
              "</style>\n",
              "<table border=\"1\" class=\"dataframe\">\n",
              "  <thead>\n",
              "    <tr style=\"text-align: right;\">\n",
              "      <th></th>\n",
              "      <th>year</th>\n",
              "      <th>price</th>\n",
              "      <th>mileage</th>\n",
              "      <th>tax</th>\n",
              "      <th>mpg</th>\n",
              "      <th>engineSize</th>\n",
              "      <th>km/L</th>\n",
              "      <th>km</th>\n",
              "      <th>km/LNorm</th>\n",
              "      <th>kmNorm</th>\n",
              "      <th>Transmision Automatica</th>\n",
              "      <th>Transmision Manual</th>\n",
              "      <th>Transmision Semi-Automatica</th>\n",
              "    </tr>\n",
              "  </thead>\n",
              "  <tbody>\n",
              "    <tr>\n",
              "      <th>year</th>\n",
              "      <td>1.000000</td>\n",
              "      <td>0.645315</td>\n",
              "      <td>-0.718873</td>\n",
              "      <td>0.298976</td>\n",
              "      <td>-0.027677</td>\n",
              "      <td>-0.141102</td>\n",
              "      <td>-0.026228</td>\n",
              "      <td>-0.718873</td>\n",
              "      <td>-0.027677</td>\n",
              "      <td>-0.718873</td>\n",
              "      <td>0.030943</td>\n",
              "      <td>-0.033566</td>\n",
              "      <td>0.014015</td>\n",
              "    </tr>\n",
              "    <tr>\n",
              "      <th>price</th>\n",
              "      <td>0.645315</td>\n",
              "      <td>1.000000</td>\n",
              "      <td>-0.530931</td>\n",
              "      <td>0.407085</td>\n",
              "      <td>-0.374265</td>\n",
              "      <td>0.409311</td>\n",
              "      <td>-0.373362</td>\n",
              "      <td>-0.530931</td>\n",
              "      <td>-0.374265</td>\n",
              "      <td>-0.530931</td>\n",
              "      <td>0.203997</td>\n",
              "      <td>-0.254988</td>\n",
              "      <td>0.140745</td>\n",
              "    </tr>\n",
              "    <tr>\n",
              "      <th>mileage</th>\n",
              "      <td>-0.718873</td>\n",
              "      <td>-0.530931</td>\n",
              "      <td>1.000000</td>\n",
              "      <td>-0.258670</td>\n",
              "      <td>0.127323</td>\n",
              "      <td>0.216036</td>\n",
              "      <td>0.129352</td>\n",
              "      <td>1.000000</td>\n",
              "      <td>0.127323</td>\n",
              "      <td>1.000000</td>\n",
              "      <td>-0.051624</td>\n",
              "      <td>0.060367</td>\n",
              "      <td>-0.029648</td>\n",
              "    </tr>\n",
              "    <tr>\n",
              "      <th>tax</th>\n",
              "      <td>0.298976</td>\n",
              "      <td>0.407085</td>\n",
              "      <td>-0.258670</td>\n",
              "      <td>1.000000</td>\n",
              "      <td>-0.517918</td>\n",
              "      <td>0.185207</td>\n",
              "      <td>-0.512617</td>\n",
              "      <td>-0.258670</td>\n",
              "      <td>-0.517918</td>\n",
              "      <td>-0.258670</td>\n",
              "      <td>0.156801</td>\n",
              "      <td>-0.182819</td>\n",
              "      <td>0.089282</td>\n",
              "    </tr>\n",
              "    <tr>\n",
              "      <th>mpg</th>\n",
              "      <td>-0.027677</td>\n",
              "      <td>-0.374265</td>\n",
              "      <td>0.127323</td>\n",
              "      <td>-0.517918</td>\n",
              "      <td>1.000000</td>\n",
              "      <td>-0.279614</td>\n",
              "      <td>0.997518</td>\n",
              "      <td>0.127323</td>\n",
              "      <td>1.000000</td>\n",
              "      <td>0.127323</td>\n",
              "      <td>-0.250929</td>\n",
              "      <td>0.322176</td>\n",
              "      <td>-0.185355</td>\n",
              "    </tr>\n",
              "    <tr>\n",
              "      <th>engineSize</th>\n",
              "      <td>-0.141102</td>\n",
              "      <td>0.409311</td>\n",
              "      <td>0.216036</td>\n",
              "      <td>0.185207</td>\n",
              "      <td>-0.279614</td>\n",
              "      <td>1.000000</td>\n",
              "      <td>-0.273157</td>\n",
              "      <td>0.216036</td>\n",
              "      <td>-0.279614</td>\n",
              "      <td>0.216036</td>\n",
              "      <td>0.159117</td>\n",
              "      <td>-0.220377</td>\n",
              "      <td>0.140606</td>\n",
              "    </tr>\n",
              "    <tr>\n",
              "      <th>km/L</th>\n",
              "      <td>-0.026228</td>\n",
              "      <td>-0.373362</td>\n",
              "      <td>0.129352</td>\n",
              "      <td>-0.512617</td>\n",
              "      <td>0.997518</td>\n",
              "      <td>-0.273157</td>\n",
              "      <td>1.000000</td>\n",
              "      <td>0.129352</td>\n",
              "      <td>0.997518</td>\n",
              "      <td>0.129352</td>\n",
              "      <td>-0.250888</td>\n",
              "      <td>0.322372</td>\n",
              "      <td>-0.185682</td>\n",
              "    </tr>\n",
              "    <tr>\n",
              "      <th>km</th>\n",
              "      <td>-0.718873</td>\n",
              "      <td>-0.530931</td>\n",
              "      <td>1.000000</td>\n",
              "      <td>-0.258670</td>\n",
              "      <td>0.127323</td>\n",
              "      <td>0.216036</td>\n",
              "      <td>0.129352</td>\n",
              "      <td>1.000000</td>\n",
              "      <td>0.127323</td>\n",
              "      <td>1.000000</td>\n",
              "      <td>-0.051624</td>\n",
              "      <td>0.060367</td>\n",
              "      <td>-0.029648</td>\n",
              "    </tr>\n",
              "    <tr>\n",
              "      <th>km/LNorm</th>\n",
              "      <td>-0.027677</td>\n",
              "      <td>-0.374265</td>\n",
              "      <td>0.127323</td>\n",
              "      <td>-0.517918</td>\n",
              "      <td>1.000000</td>\n",
              "      <td>-0.279614</td>\n",
              "      <td>0.997518</td>\n",
              "      <td>0.127323</td>\n",
              "      <td>1.000000</td>\n",
              "      <td>0.127323</td>\n",
              "      <td>-0.250929</td>\n",
              "      <td>0.322176</td>\n",
              "      <td>-0.185355</td>\n",
              "    </tr>\n",
              "    <tr>\n",
              "      <th>kmNorm</th>\n",
              "      <td>-0.718873</td>\n",
              "      <td>-0.530931</td>\n",
              "      <td>1.000000</td>\n",
              "      <td>-0.258670</td>\n",
              "      <td>0.127323</td>\n",
              "      <td>0.216036</td>\n",
              "      <td>0.129352</td>\n",
              "      <td>1.000000</td>\n",
              "      <td>0.127323</td>\n",
              "      <td>1.000000</td>\n",
              "      <td>-0.051624</td>\n",
              "      <td>0.060367</td>\n",
              "      <td>-0.029648</td>\n",
              "    </tr>\n",
              "    <tr>\n",
              "      <th>Transmision Automatica</th>\n",
              "      <td>0.030943</td>\n",
              "      <td>0.203997</td>\n",
              "      <td>-0.051624</td>\n",
              "      <td>0.156801</td>\n",
              "      <td>-0.250929</td>\n",
              "      <td>0.159117</td>\n",
              "      <td>-0.250888</td>\n",
              "      <td>-0.051624</td>\n",
              "      <td>-0.250929</td>\n",
              "      <td>-0.051624</td>\n",
              "      <td>1.000000</td>\n",
              "      <td>-0.718775</td>\n",
              "      <td>-0.072102</td>\n",
              "    </tr>\n",
              "    <tr>\n",
              "      <th>Transmision Manual</th>\n",
              "      <td>-0.033566</td>\n",
              "      <td>-0.254988</td>\n",
              "      <td>0.060367</td>\n",
              "      <td>-0.182819</td>\n",
              "      <td>0.322176</td>\n",
              "      <td>-0.220377</td>\n",
              "      <td>0.322372</td>\n",
              "      <td>0.060367</td>\n",
              "      <td>0.322176</td>\n",
              "      <td>0.060367</td>\n",
              "      <td>-0.718775</td>\n",
              "      <td>1.000000</td>\n",
              "      <td>-0.641609</td>\n",
              "    </tr>\n",
              "    <tr>\n",
              "      <th>Transmision Semi-Automatica</th>\n",
              "      <td>0.014015</td>\n",
              "      <td>0.140745</td>\n",
              "      <td>-0.029648</td>\n",
              "      <td>0.089282</td>\n",
              "      <td>-0.185355</td>\n",
              "      <td>0.140606</td>\n",
              "      <td>-0.185682</td>\n",
              "      <td>-0.029648</td>\n",
              "      <td>-0.185355</td>\n",
              "      <td>-0.029648</td>\n",
              "      <td>-0.072102</td>\n",
              "      <td>-0.641609</td>\n",
              "      <td>1.000000</td>\n",
              "    </tr>\n",
              "  </tbody>\n",
              "</table>\n",
              "</div>"
            ],
            "text/plain": [
              "                                 year     price   mileage       tax       mpg  \\\n",
              "year                         1.000000  0.645315 -0.718873  0.298976 -0.027677   \n",
              "price                        0.645315  1.000000 -0.530931  0.407085 -0.374265   \n",
              "mileage                     -0.718873 -0.530931  1.000000 -0.258670  0.127323   \n",
              "tax                          0.298976  0.407085 -0.258670  1.000000 -0.517918   \n",
              "mpg                         -0.027677 -0.374265  0.127323 -0.517918  1.000000   \n",
              "engineSize                  -0.141102  0.409311  0.216036  0.185207 -0.279614   \n",
              "km/L                        -0.026228 -0.373362  0.129352 -0.512617  0.997518   \n",
              "km                          -0.718873 -0.530931  1.000000 -0.258670  0.127323   \n",
              "km/LNorm                    -0.027677 -0.374265  0.127323 -0.517918  1.000000   \n",
              "kmNorm                      -0.718873 -0.530931  1.000000 -0.258670  0.127323   \n",
              "Transmision Automatica       0.030943  0.203997 -0.051624  0.156801 -0.250929   \n",
              "Transmision Manual          -0.033566 -0.254988  0.060367 -0.182819  0.322176   \n",
              "Transmision Semi-Automatica  0.014015  0.140745 -0.029648  0.089282 -0.185355   \n",
              "\n",
              "                             engineSize      km/L        km  km/LNorm  \\\n",
              "year                          -0.141102 -0.026228 -0.718873 -0.027677   \n",
              "price                          0.409311 -0.373362 -0.530931 -0.374265   \n",
              "mileage                        0.216036  0.129352  1.000000  0.127323   \n",
              "tax                            0.185207 -0.512617 -0.258670 -0.517918   \n",
              "mpg                           -0.279614  0.997518  0.127323  1.000000   \n",
              "engineSize                     1.000000 -0.273157  0.216036 -0.279614   \n",
              "km/L                          -0.273157  1.000000  0.129352  0.997518   \n",
              "km                             0.216036  0.129352  1.000000  0.127323   \n",
              "km/LNorm                      -0.279614  0.997518  0.127323  1.000000   \n",
              "kmNorm                         0.216036  0.129352  1.000000  0.127323   \n",
              "Transmision Automatica         0.159117 -0.250888 -0.051624 -0.250929   \n",
              "Transmision Manual            -0.220377  0.322372  0.060367  0.322176   \n",
              "Transmision Semi-Automatica    0.140606 -0.185682 -0.029648 -0.185355   \n",
              "\n",
              "                               kmNorm  Transmision Automatica  \\\n",
              "year                        -0.718873                0.030943   \n",
              "price                       -0.530931                0.203997   \n",
              "mileage                      1.000000               -0.051624   \n",
              "tax                         -0.258670                0.156801   \n",
              "mpg                          0.127323               -0.250929   \n",
              "engineSize                   0.216036                0.159117   \n",
              "km/L                         0.129352               -0.250888   \n",
              "km                           1.000000               -0.051624   \n",
              "km/LNorm                     0.127323               -0.250929   \n",
              "kmNorm                       1.000000               -0.051624   \n",
              "Transmision Automatica      -0.051624                1.000000   \n",
              "Transmision Manual           0.060367               -0.718775   \n",
              "Transmision Semi-Automatica -0.029648               -0.072102   \n",
              "\n",
              "                             Transmision Manual  Transmision Semi-Automatica  \n",
              "year                                  -0.033566                     0.014015  \n",
              "price                                 -0.254988                     0.140745  \n",
              "mileage                                0.060367                    -0.029648  \n",
              "tax                                   -0.182819                     0.089282  \n",
              "mpg                                    0.322176                    -0.185355  \n",
              "engineSize                            -0.220377                     0.140606  \n",
              "km/L                                   0.322372                    -0.185682  \n",
              "km                                     0.060367                    -0.029648  \n",
              "km/LNorm                               0.322176                    -0.185355  \n",
              "kmNorm                                 0.060367                    -0.029648  \n",
              "Transmision Automatica                -0.718775                    -0.072102  \n",
              "Transmision Manual                     1.000000                    -0.641609  \n",
              "Transmision Semi-Automatica           -0.641609                     1.000000  "
            ]
          },
          "execution_count": 96,
          "metadata": {},
          "output_type": "execute_result"
        }
      ],
      "source": [
        "df.corr()"
      ]
    },
    {
      "cell_type": "markdown",
      "metadata": {},
      "source": [
        "Se muestra la correlación de las columnas de `precio` y `año`. "
      ]
    },
    {
      "cell_type": "code",
      "execution_count": 97,
      "metadata": {
        "colab": {
          "base_uri": "https://localhost:8080/",
          "height": 112
        },
        "id": "YDIBiPuFHP_T",
        "outputId": "8e626303-b261-49d1-ef0c-f3188f4199e4"
      },
      "outputs": [
        {
          "data": {
            "text/html": [
              "<div>\n",
              "<style scoped>\n",
              "    .dataframe tbody tr th:only-of-type {\n",
              "        vertical-align: middle;\n",
              "    }\n",
              "\n",
              "    .dataframe tbody tr th {\n",
              "        vertical-align: top;\n",
              "    }\n",
              "\n",
              "    .dataframe thead th {\n",
              "        text-align: right;\n",
              "    }\n",
              "</style>\n",
              "<table border=\"1\" class=\"dataframe\">\n",
              "  <thead>\n",
              "    <tr style=\"text-align: right;\">\n",
              "      <th></th>\n",
              "      <th>price</th>\n",
              "      <th>year</th>\n",
              "    </tr>\n",
              "  </thead>\n",
              "  <tbody>\n",
              "    <tr>\n",
              "      <th>price</th>\n",
              "      <td>1.000000</td>\n",
              "      <td>0.645315</td>\n",
              "    </tr>\n",
              "    <tr>\n",
              "      <th>year</th>\n",
              "      <td>0.645315</td>\n",
              "      <td>1.000000</td>\n",
              "    </tr>\n",
              "  </tbody>\n",
              "</table>\n",
              "</div>"
            ],
            "text/plain": [
              "          price      year\n",
              "price  1.000000  0.645315\n",
              "year   0.645315  1.000000"
            ]
          },
          "execution_count": 97,
          "metadata": {},
          "output_type": "execute_result"
        }
      ],
      "source": [
        "df[['price', 'year']].corr()"
      ]
    },
    {
      "cell_type": "markdown",
      "metadata": {
        "id": "mBoniQKDH10S"
      },
      "source": [
        "Se examinó la correlación entre las variables `year` y `price` (0,636) ya que, de todas las variables, el año (`year`) es la variable más correlacionada con el precio (`price`)."
      ]
    },
    {
      "cell_type": "code",
      "execution_count": 135,
      "metadata": {
        "colab": {
          "base_uri": "https://localhost:8080/",
          "height": 296
        },
        "id": "faSoncurGabu",
        "outputId": "fd912802-85a2-47b5-95ef-a1559a3f68ab"
      },
      "outputs": [
        {
          "data": {
            "text/plain": [
              "(0.0, 58736.01286246693)"
            ]
          },
          "execution_count": 135,
          "metadata": {},
          "output_type": "execute_result"
        },
        {
          "data": {
            "image/png": "[encoded data removed]",
            "text/plain": [
              "<Figure size 432x288 with 1 Axes>"
            ]
          },
          "metadata": {
            "needs_background": "light"
          },
          "output_type": "display_data"
        }
      ],
      "source": [
        "sns.regplot(x=\"year\", y=\"price\", data=df)\n",
        "plt.ylim(0,)   \n",
        "#Polinomial"
      ]
    },
    {
      "cell_type": "markdown",
      "metadata": {
        "id": "h6RUSLjHG7xF"
      },
      "source": [
        "A medida que aumenta el año, aumenta el precio: esto indica una **correlación directa/positiva** entre estas dos variables. El año parece un indicador bastante bueno del precio, ya que la línea de regresión es casi una línea diagonal perfecta."
      ]
    },
    {
      "cell_type": "markdown",
      "metadata": {},
      "source": [
        "### Coeficiente de correlación de Pearson"
      ]
    },
    {
      "cell_type": "markdown",
      "metadata": {},
      "source": [
        "Se va a calcular el coeficiente de correlación de Pearson para analizar la relación lineal entre las variables"
      ]
    },
    {
      "cell_type": "markdown",
      "metadata": {},
      "source": [
        "La información del **valor P** se puede obtener usando el módulo `stats` de la biblioteca `scipy`."
      ]
    },
    {
      "cell_type": "code",
      "execution_count": 99,
      "metadata": {},
      "outputs": [],
      "source": [
        "from scipy import stats"
      ]
    },
    {
      "cell_type": "markdown",
      "metadata": {},
      "source": [
        "#### Año versus Precio"
      ]
    },
    {
      "cell_type": "code",
      "execution_count": 140,
      "metadata": {},
      "outputs": [
        {
          "name": "stdout",
          "output_type": "stream",
          "text": [
            "El coeficiente de la Correlación de Pearson es -0.3742645983945155  con un valor P = 0.0\n"
          ]
        }
      ],
      "source": [
        "coeficiente_pearson, valor_p = stats.pearsonr(df['mpg'], df['price'])\n",
        "print(\"El coeficiente de la Correlación de Pearson es\", coeficiente_pearson, \" con un valor P =\", valor_p)"
      ]
    },
    {
      "cell_type": "markdown",
      "metadata": {},
      "source": [
        "**$\\therefore $ Conclusión:**\n",
        "\n",
        "Dado que el valor P es $<$ 0.001, la correlación entre el *año* y el *precio* es estadísticamente significativa, aunque la relación lineal no es especialmente fuerte (~0.636)."
      ]
    },
    {
      "cell_type": "markdown",
      "metadata": {},
      "source": [
        "---"
      ]
    },
    {
      "cell_type": "markdown",
      "metadata": {},
      "source": [
        "## 3. Modelos de regresión"
      ]
    },
    {
      "cell_type": "markdown",
      "metadata": {},
      "source": [
        "### Modelo de Regresión Lineal Simple"
      ]
    },
    {
      "cell_type": "markdown",
      "metadata": {},
      "source": [
        "Primero, se debe cargar el módulo para la regresión lineal."
      ]
    },
    {
      "cell_type": "code",
      "execution_count": 102,
      "metadata": {},
      "outputs": [],
      "source": [
        "from sklearn.linear_model import LinearRegression"
      ]
    },
    {
      "cell_type": "markdown",
      "metadata": {},
      "source": [
        "Una vez cargado se procede a crear un objeto del tipo regresión lineal,  `LinearRegression()`."
      ]
    },
    {
      "cell_type": "code",
      "execution_count": 103,
      "metadata": {},
      "outputs": [
        {
          "data": {
            "text/plain": [
              "LinearRegression()"
            ]
          },
          "execution_count": 103,
          "metadata": {},
          "output_type": "execute_result"
        }
      ],
      "source": [
        "lm = LinearRegression()\n",
        "lm"
      ]
    },
    {
      "cell_type": "markdown",
      "metadata": {},
      "source": [
        "#### ¿Cómo podría el consumo en millas por galón ayudar a predecir el precio de un automóvil?"
      ]
    },
    {
      "cell_type": "markdown",
      "metadata": {},
      "source": [
        "Utilizando una regresión lineal simple, se creará una función lineal con `mpg` como la variable predictora y `price` como la variable de respuesta."
      ]
    },
    {
      "cell_type": "code",
      "execution_count": 104,
      "metadata": {},
      "outputs": [],
      "source": [
        "X = df[['mpg']]\n",
        "Y = df['price']"
      ]
    },
    {
      "cell_type": "markdown",
      "metadata": {},
      "source": [
        "Para ajustar el modelo lineal se utilizarán los datos de la variable `mpg`."
      ]
    },
    {
      "cell_type": "code",
      "execution_count": 105,
      "metadata": {},
      "outputs": [
        {
          "data": {
            "text/plain": [
              "LinearRegression()"
            ]
          },
          "execution_count": 105,
          "metadata": {},
          "output_type": "execute_result"
        }
      ],
      "source": [
        "lm.fit(X,Y)"
      ]
    },
    {
      "cell_type": "markdown",
      "metadata": {},
      "source": [
        "Ahora, se podría generar una predicción."
      ]
    },
    {
      "cell_type": "code",
      "execution_count": 106,
      "metadata": {},
      "outputs": [
        {
          "data": {
            "text/plain": [
              "array([12298.30258801, 12298.30258801, 12298.30258801, 15425.24408034,\n",
              "       13915.68611852])"
            ]
          },
          "execution_count": 106,
          "metadata": {},
          "output_type": "execute_result"
        }
      ],
      "source": [
        "Y_hat=lm.predict(X)\n",
        "Y_hat[0:5]"
      ]
    },
    {
      "cell_type": "markdown",
      "metadata": {},
      "source": [
        "Intersección $a$:"
      ]
    },
    {
      "cell_type": "code",
      "execution_count": 107,
      "metadata": {},
      "outputs": [
        {
          "data": {
            "text/plain": [
              "22667.5281114152"
            ]
          },
          "execution_count": 107,
          "metadata": {},
          "output_type": "execute_result"
        }
      ],
      "source": [
        "lm.intercept_"
      ]
    },
    {
      "cell_type": "markdown",
      "metadata": {},
      "source": [
        "Pendiente $b$:"
      ]
    },
    {
      "cell_type": "code",
      "execution_count": 108,
      "metadata": {},
      "outputs": [
        {
          "data": {
            "text/plain": [
              "array([-179.70928117])"
            ]
          },
          "execution_count": 108,
          "metadata": {},
          "output_type": "execute_result"
        }
      ],
      "source": [
        "lm.coef_"
      ]
    },
    {
      "cell_type": "markdown",
      "metadata": {},
      "source": [
        "**$\\therefore $ Conclusión:**\n",
        "\n",
        "Reemplazando los valores obtenidos en el modelo lineal con la estructura: $ \\hat{Y} = a + b  X $, se obtiene la siguiente fórmula: $\\hat{price} = 21672.65 - 162.21 \\times mpg$."
      ]
    },
    {
      "cell_type": "markdown",
      "metadata": {},
      "source": [
        "#### Gráfico de Regresión Simple"
      ]
    },
    {
      "cell_type": "code",
      "execution_count": 109,
      "metadata": {},
      "outputs": [
        {
          "data": {
            "text/plain": [
              "(0.0, 57720.0)"
            ]
          },
          "execution_count": 109,
          "metadata": {},
          "output_type": "execute_result"
        },
        {
          "data": {
            "image/png": "[encoded data removed]",
            "text/plain": [
              "<Figure size 1800x720 with 1 Axes>"
            ]
          },
          "metadata": {
            "needs_background": "light"
          },
          "output_type": "display_data"
        }
      ],
      "source": [
        "ancho = 25\n",
        "alto = 10\n",
        "plt.figure(figsize=(ancho, alto))\n",
        "sns.regplot(x=\"mpg\", y=\"price\", data=df)\n",
        "plt.ylim(0,)"
      ]
    },
    {
      "cell_type": "markdown",
      "metadata": {},
      "source": [
        "De este gráfico se puede observar que el precio está negativamente correlacionado con el consumo de millas por galón, ya que la pendiente de la regresión es negativa.\n",
        "\n",
        "Como los datos están demasiado alejados de la línea, este modelo lineal podría no ser el mejor modelo para estos datos. Por lo tanto, se graficó utilizando un gráfico de residuos:"
      ]
    },
    {
      "cell_type": "markdown",
      "metadata": {},
      "source": [
        "#### Gráfico de Residuos"
      ]
    },
    {
      "cell_type": "code",
      "execution_count": 110,
      "metadata": {},
      "outputs": [
        {
          "data": {
            "image/png": "[encoded data removed]",
            "text/plain": [
              "<Figure size 1800x720 with 1 Axes>"
            ]
          },
          "metadata": {
            "needs_background": "light"
          },
          "output_type": "display_data"
        }
      ],
      "source": [
        "ancho = 25\n",
        "alto = 10\n",
        "plt.figure(figsize=(ancho, alto))\n",
        "sns.residplot(x=df['mpg'], y=df['price'])\n",
        "plt.show()"
      ]
    },
    {
      "cell_type": "markdown",
      "metadata": {},
      "source": [
        "Se puede ver en este gráfico de residuos que los residuos no se distribuyen aleatoriamente alrededor del eje x, lo que nos lleva a creer que tal vez un modelo no lineal sea más apropiado para estos datos."
      ]
    },
    {
      "cell_type": "markdown",
      "metadata": {},
      "source": [
        "#### Error de la Regresión Lineal Simple"
      ]
    },
    {
      "cell_type": "markdown",
      "metadata": {},
      "source": [
        "Se debe importar la función **mean_squared_error** del módulo **metrics**:"
      ]
    },
    {
      "cell_type": "code",
      "execution_count": 111,
      "metadata": {},
      "outputs": [],
      "source": [
        "from sklearn.metrics import mean_squared_error"
      ]
    },
    {
      "cell_type": "markdown",
      "metadata": {},
      "source": [
        "Se ajusta el modelo"
      ]
    },
    {
      "cell_type": "code",
      "execution_count": 112,
      "metadata": {},
      "outputs": [
        {
          "data": {
            "text/plain": [
              "LinearRegression()"
            ]
          },
          "execution_count": 112,
          "metadata": {},
          "output_type": "execute_result"
        }
      ],
      "source": [
        "lm.fit(X, Y)"
      ]
    },
    {
      "cell_type": "markdown",
      "metadata": {},
      "source": [
        "Se encuentra el $R^2$"
      ]
    },
    {
      "cell_type": "code",
      "execution_count": 113,
      "metadata": {},
      "outputs": [
        {
          "name": "stdout",
          "output_type": "stream",
          "text": [
            "El valor de R-cuadrado es:  0.14007398961140793\n"
          ]
        }
      ],
      "source": [
        "print('El valor de R-cuadrado es: ', lm.score(X, Y))"
      ]
    },
    {
      "cell_type": "markdown",
      "metadata": {},
      "source": [
        "El valor entregado nos indica que el \\~40.045% de la variación del precio se explica por el modelo lineal simple basado en `mpg`."
      ]
    },
    {
      "cell_type": "markdown",
      "metadata": {},
      "source": [
        "Ahora, se calculará el MSE.\n",
        "\n",
        "Primero se debe predecir la salida, es decir, $\\hat{y}$ usando el método de predicción, donde $X$ es la variable de entrada."
      ]
    },
    {
      "cell_type": "code",
      "execution_count": 114,
      "metadata": {},
      "outputs": [
        {
          "name": "stdout",
          "output_type": "stream",
          "text": [
            "La salida de los primeros cuatro valores de predicción es:  [12298.30258801 12298.30258801 12298.30258801 15425.24408034]\n"
          ]
        }
      ],
      "source": [
        "Y_hat=lm.predict(X)\n",
        "print('La salida de los primeros cuatro valores de predicción es: ', Y_hat[0:4])"
      ]
    },
    {
      "cell_type": "markdown",
      "metadata": {},
      "source": [
        " Ahora, se puede comparar los resultados previstos con los resultados reales. Recordar que un valor bajo de MSE indica que hay un mejor ajuste."
      ]
    },
    {
      "cell_type": "code",
      "execution_count": 115,
      "metadata": {},
      "outputs": [
        {
          "name": "stdout",
          "output_type": "stream",
          "text": [
            "19189319.68011485\n"
          ]
        }
      ],
      "source": [
        "mse = mean_squared_error(df['price'], Y_hat)\n",
        "print(mse)"
      ]
    },
    {
      "cell_type": "markdown",
      "metadata": {},
      "source": [
        "Por lo tanto, el error cuadrático medio del precio y el precio pronosticado es ~19781453."
      ]
    },
    {
      "cell_type": "markdown",
      "metadata": {},
      "source": [
        "**$\\therefore $ Conclusión:**\n",
        "\n",
        "Finalmente, luego de todos los análisis, se probó que un modelo lineal simple no es el mejor tipo de modelo para este conjunto de datos, por lo que luego, se modeló utilizando un modelo de regresión lineal multiple y un gráfico de regresión múltiple"
      ]
    },
    {
      "cell_type": "markdown",
      "metadata": {},
      "source": [
        "### Modelo de Regresión Lineal Multiple"
      ]
    },
    {
      "cell_type": "markdown",
      "metadata": {},
      "source": [
        "Se van a analizar las variables `tax`, `mileage`, `engineSize` y `mpg`."
      ]
    },
    {
      "cell_type": "code",
      "execution_count": 116,
      "metadata": {},
      "outputs": [],
      "source": [
        "Z = df[['tax', 'mileage', 'engineSize', 'mpg']]"
      ]
    },
    {
      "cell_type": "markdown",
      "metadata": {},
      "source": [
        "Se ajusta el modelo lineal utilizando las cuatro variables anteriores."
      ]
    },
    {
      "cell_type": "code",
      "execution_count": 117,
      "metadata": {},
      "outputs": [
        {
          "data": {
            "text/plain": [
              "LinearRegression()"
            ]
          },
          "execution_count": 117,
          "metadata": {},
          "output_type": "execute_result"
        }
      ],
      "source": [
        "lm.fit(Z, df['price'])"
      ]
    },
    {
      "cell_type": "markdown",
      "metadata": {},
      "source": [
        "Intersección $a$:"
      ]
    },
    {
      "cell_type": "code",
      "execution_count": 118,
      "metadata": {},
      "outputs": [
        {
          "data": {
            "text/plain": [
              "10448.364311091971"
            ]
          },
          "execution_count": 118,
          "metadata": {},
          "output_type": "execute_result"
        }
      ],
      "source": [
        "lm.intercept_"
      ]
    },
    {
      "cell_type": "markdown",
      "metadata": {},
      "source": [
        "Valores de los coeficientes ($b_1$, $b_2$, $b_3$, $b_4$):"
      ]
    },
    {
      "cell_type": "code",
      "execution_count": 119,
      "metadata": {},
      "outputs": [
        {
          "data": {
            "text/plain": [
              "array([ 8.22735682e+00, -1.44500285e-01,  5.34276139e+03, -5.09878027e+01])"
            ]
          },
          "execution_count": 119,
          "metadata": {},
          "output_type": "execute_result"
        }
      ],
      "source": [
        "lm.coef_"
      ]
    },
    {
      "cell_type": "markdown",
      "metadata": {},
      "source": [
        "##### Gráfico de Regresión Lineal Múltiple"
      ]
    },
    {
      "cell_type": "code",
      "execution_count": 120,
      "metadata": {},
      "outputs": [],
      "source": [
        "Y_hat = lm.predict(Z)"
      ]
    },
    {
      "cell_type": "code",
      "execution_count": 121,
      "metadata": {},
      "outputs": [
        {
          "data": {
            "image/png": "[encoded data removed]",
            "text/plain": [
              "<Figure size 1800x720 with 1 Axes>"
            ]
          },
          "metadata": {
            "needs_background": "light"
          },
          "output_type": "display_data"
        }
      ],
      "source": [
        "plt.figure(figsize=(ancho, alto))\n",
        "\n",
        "ax1 = sns.kdeplot(df['price'], color=\"r\", label=\"Valor Actual\")\n",
        "sns.kdeplot(Y_hat, color=\"b\", label=\"Valores Ajustados\" , ax=ax1)\n",
        "\n",
        "plt.title('Valores Actuales vs Ajustados para el Precio')\n",
        "plt.xlabel('Precio (en euros)')\n",
        "plt.ylabel('Proporción de Automóviles')\n",
        "\n",
        "plt.legend(loc='upper right')\n",
        "\n",
        "plt.show()\n",
        "plt.close()"
      ]
    },
    {
      "cell_type": "markdown",
      "metadata": {},
      "source": [
        "Del gráfico se puede observar que los valores ajustados para las cuatro variables están algo alejadas de los valores reales."
      ]
    },
    {
      "cell_type": "markdown",
      "metadata": {},
      "source": [
        "#### Error de la Regresión Lineal Multiple"
      ]
    },
    {
      "cell_type": "markdown",
      "metadata": {},
      "source": [
        "Se calculó el $R^2$ de la relación entre el impuesto (`tax`), el año (`year`), tamaño del motor (`engineSize`) y `Transmision automatica` con el precio (`price`) que ya se encuentra almacenado en la variable Z utilizando el modelo de regresión lineal multiple definido en el objeto lm."
      ]
    },
    {
      "cell_type": "markdown",
      "metadata": {},
      "source": [
        "Primero, se ajusta el modelo."
      ]
    },
    {
      "cell_type": "code",
      "execution_count": 122,
      "metadata": {},
      "outputs": [
        {
          "data": {
            "text/plain": [
              "LinearRegression()"
            ]
          },
          "execution_count": 122,
          "metadata": {},
          "output_type": "execute_result"
        }
      ],
      "source": [
        "lm.fit(Z, df['price'])"
      ]
    },
    {
      "cell_type": "markdown",
      "metadata": {},
      "source": [
        "Luego, se encuentra $R^2$."
      ]
    },
    {
      "cell_type": "code",
      "execution_count": 123,
      "metadata": {},
      "outputs": [
        {
          "name": "stdout",
          "output_type": "stream",
          "text": [
            "El valor de R-cuadrado es:  0.599343741035617\n"
          ]
        }
      ],
      "source": [
        "print('El valor de R-cuadrado es: ', lm.score(Z, df['price']))"
      ]
    },
    {
      "cell_type": "markdown",
      "metadata": {},
      "source": [
        " El valor entregado nos indica que el ~59.76% de la variación del precio se explica por el modelo lineal multiple basado en las variables ``tax``, ``year``, ``engineSize`` y ``Transmision automatica``."
      ]
    },
    {
      "cell_type": "markdown",
      "metadata": {},
      "source": [
        "Ahora, se calculará el MSE.\n",
        "\n",
        "Primero se debe predecir la salida, es decir, $\\hat{y}$ usando el método de predicción, donde $Z$ es la variable de entrada."
      ]
    },
    {
      "cell_type": "code",
      "execution_count": 124,
      "metadata": {},
      "outputs": [],
      "source": [
        "Y_hat_multi = lm.predict(Z)\n",
        "\n",
        "Z = df[['tax', 'year', 'engineSize', 'Transmision Automatica']]"
      ]
    },
    {
      "cell_type": "markdown",
      "metadata": {},
      "source": [
        "Luego, se puede proceder a comparar los resultados previstos con los resultados reales."
      ]
    },
    {
      "cell_type": "code",
      "execution_count": 125,
      "metadata": {},
      "outputs": [
        {
          "name": "stdout",
          "output_type": "stream",
          "text": [
            "8940677.386455784\n"
          ]
        }
      ],
      "source": [
        "print(mean_squared_error(df['price'], Y_hat_multi))"
      ]
    },
    {
      "cell_type": "markdown",
      "metadata": {},
      "source": [
        "Por lo tanto, el error cuadrático medio del precio y el precio pronosticado usando un multi ajuste es: ~9045175."
      ]
    },
    {
      "cell_type": "markdown",
      "metadata": {},
      "source": [
        "**$\\therefore $ Conclusión:**\n",
        "\n",
        "Finalmente, luego de todos los análisis, se probó que un modelo de regresión lineal múltiple tampoco es el mejor tipo de modelo para este conjunto de datos, por lo que, considerando también los resultados del modelo de regresión lineal simple, se puede concluir que un modelo no lineal puede resultar ser mejor para este set de datos."
      ]
    },
    {
      "cell_type": "markdown",
      "metadata": {},
      "source": [
        "---"
      ]
    },
    {
      "cell_type": "markdown",
      "metadata": {},
      "source": [
        "### Modelo de Regresión Polinomial Simple"
      ]
    },
    {
      "cell_type": "markdown",
      "metadata": {},
      "source": [
        "Como se mencionó anteriormente, un modelo lineal no proporcionaba el mejor ajuste al utilizar el atributo de millas por galón (`mpg`) como variable de predicción. Por lo tanto, se ajustarán los datos a un modelo polinomial."
      ]
    },
    {
      "cell_type": "markdown",
      "metadata": {},
      "source": [
        "#### Gráfico de Regresión Polinomial Simple"
      ]
    },
    {
      "cell_type": "markdown",
      "metadata": {},
      "source": [
        "Se utilizará la siguiente función para graficar los datos:"
      ]
    },
    {
      "cell_type": "code",
      "execution_count": 126,
      "metadata": {},
      "outputs": [],
      "source": [
        "def GraficaPolinomial(modelo, variable_independiente, variable_dependiente, Nombre):\n",
        "    nuevo_x = np.linspace(15, 55, 100)\n",
        "    nuevo_y = modelo(nuevo_x)\n",
        "\n",
        "    plt.plot(variable_independiente, variable_dependiente, '.', nuevo_x, nuevo_y, '-')\n",
        "    plt.title('Ajuste Polinomial con Matplotlib para Precio ~ ' + Nombre)\n",
        "    ax = plt.gca()\n",
        "    ax.set_facecolor((0.898, 0.898, 0.898))\n",
        "    figura = plt.gcf()\n",
        "    plt.xlabel(Nombre)\n",
        "    plt.ylabel('Precio de los Automóviles')\n",
        "\n",
        "    plt.show()\n",
        "    plt.close()"
      ]
    },
    {
      "cell_type": "markdown",
      "metadata": {},
      "source": [
        "Ahora hay que preparar las variables/parámetros de entrada."
      ]
    },
    {
      "cell_type": "code",
      "execution_count": 127,
      "metadata": {},
      "outputs": [],
      "source": [
        "x = df['mpg']\n",
        "y = df['price']"
      ]
    },
    {
      "cell_type": "markdown",
      "metadata": {},
      "source": [
        "El siguiente paso es ajustar el polinomio usando la función .polyfit(), luego se usará la función .poly1d() para mostrar la función polinomial."
      ]
    },
    {
      "cell_type": "code",
      "execution_count": 128,
      "metadata": {},
      "outputs": [
        {
          "name": "stdout",
          "output_type": "stream",
          "text": [
            "         3         2\n",
            "-0.2148 x + 43.01 x - 2917 x + 7.806e+04\n"
          ]
        }
      ],
      "source": [
        "f = np.polyfit(x, y, 3)\n",
        "p = np.poly1d(f)\n",
        "print(p)"
      ]
    },
    {
      "cell_type": "markdown",
      "metadata": {},
      "source": [
        "Para visualizar los datos aplicados a la función polinomial generada se llamará a la función definida previamente, GraficaPolinomial."
      ]
    },
    {
      "cell_type": "code",
      "execution_count": 129,
      "metadata": {},
      "outputs": [
        {
          "data": {
            "image/png": "[encoded data removed]",
            "text/plain": [
              "<Figure size 432x288 with 1 Axes>"
            ]
          },
          "metadata": {
            "needs_background": "light"
          },
          "output_type": "display_data"
        }
      ],
      "source": [
        "GraficaPolinomial(p, x, y, 'mpg-price')"
      ]
    },
    {
      "cell_type": "code",
      "execution_count": 130,
      "metadata": {},
      "outputs": [
        {
          "data": {
            "text/plain": [
              "array([-2.14781124e-01,  4.30141701e+01, -2.91705119e+03,  7.80556979e+04])"
            ]
          },
          "execution_count": 130,
          "metadata": {},
          "output_type": "execute_result"
        }
      ],
      "source": [
        "np.polyfit(x, y, 3)"
      ]
    },
    {
      "cell_type": "markdown",
      "metadata": {},
      "source": [
        "**$\\therefore $ Conclusión:**\n",
        "\n",
        "Se puede observar en el gráfico que este modelo polinomial funciona mejor que el modelo lineal. Esto se debe a que la función polinomial generada acierta más puntos de datos."
      ]
    },
    {
      "cell_type": "markdown",
      "metadata": {},
      "source": [
        "#### Error de la Regresión Lineal Multiple"
      ]
    },
    {
      "cell_type": "markdown",
      "metadata": {},
      "source": [
        "Se calculó el  $R^2$  de la relación entre las millas por galón (`mpg`) que ya se encuentra almacenado en la variable X y el precio `price` que ya se encuentra almacenado en la variable Y, utilizando la función de regresión polinomial definido en el objeto P."
      ]
    },
    {
      "cell_type": "markdown",
      "metadata": {},
      "source": [
        "Primero, se importa la función **r2_score** del módulo **metrics**, ya que se va a usar una función diferente."
      ]
    },
    {
      "cell_type": "code",
      "execution_count": 131,
      "metadata": {},
      "outputs": [],
      "source": [
        "from sklearn.metrics import r2_score"
      ]
    },
    {
      "cell_type": "markdown",
      "metadata": {},
      "source": [
        "Ahora, se puede aplicar la función para obtener el valor de $R^2$:"
      ]
    },
    {
      "cell_type": "code",
      "execution_count": 132,
      "metadata": {},
      "outputs": [
        {
          "name": "stdout",
          "output_type": "stream",
          "text": [
            "0.19600926420280917\n"
          ]
        }
      ],
      "source": [
        "r_cuadrado = r2_score(y, p(x))\n",
        "print(r_cuadrado)"
      ]
    },
    {
      "cell_type": "markdown",
      "metadata": {},
      "source": [
        "El valor entregado nos indica que el ~18.84% de la variación del precio se explica por el modelo polinomial basado en mpg."
      ]
    },
    {
      "cell_type": "markdown",
      "metadata": {},
      "source": [
        "Luego, se debe calcular el MSE.\n",
        "\n",
        "Para esto, los valores de $\\hat{y}$  van a estar dados por la función P(x) donde  x  es la variable de entrada."
      ]
    },
    {
      "cell_type": "code",
      "execution_count": 133,
      "metadata": {},
      "outputs": [
        {
          "data": {
            "text/plain": [
              "17941119.425020386"
            ]
          },
          "execution_count": 133,
          "metadata": {},
          "output_type": "execute_result"
        }
      ],
      "source": [
        "mean_squared_error(df['price'], p(x))"
      ]
    },
    {
      "cell_type": "markdown",
      "metadata": {},
      "source": [
        "Por lo tanto, el error cuadrático medio del precio y el precio pronosticado es ~18244730."
      ]
    }
  ],
  "metadata": {
    "colab": {
      "collapsed_sections": [],
      "name": "Tarea4-Python.ipynb",
      "provenance": []
    },
    "kernelspec": {
      "display_name": "Python 3.9.7 ('base')",
      "language": "python",
      "name": "python3"
    },
    "language_info": {
      "codemirror_mode": {
        "name": "ipython",
        "version": 3
      },
      "file_extension": ".py",
      "mimetype": "text/x-python",
      "name": "python",
      "nbconvert_exporter": "python",
      "pygments_lexer": "ipython3",
      "version": "3.9.7"
    },
    "vscode": {
      "interpreter": {
        "hash": "1866c50ceecc0740dafef64aeeec149fceb197abd6c79ccbdb5e1b1afaadbd76"
      }
    }
  },
  "nbformat": 4,
  "nbformat_minor": 0
}
